{
 "cells": [
  {
   "cell_type": "code",
   "execution_count": 1,
   "id": "af5c7649",
   "metadata": {},
   "outputs": [
    {
     "data": {
      "text/plain": [
       "'I ate 10 apples. so I was sick for three days'"
      ]
     },
     "execution_count": 1,
     "metadata": {},
     "output_type": "execute_result"
    }
   ],
   "source": [
    ">>> number = 10\n",
    ">>> day = \"three\"\n",
    ">>> \"I ate {0} apples. so I was sick for {1} days.\".format(number, day)\n",
    "'I ate 10 apples. so I was sick for three days'"
   ]
  },
  {
   "cell_type": "code",
   "execution_count": null,
   "id": "139693a3",
   "metadata": {},
   "outputs": [],
   "source": []
  }
 ],
 "metadata": {
  "kernelspec": {
   "display_name": "Python 3 (ipykernel)",
   "language": "python",
   "name": "python3"
  },
  "language_info": {
   "codemirror_mode": {
    "name": "ipython",
    "version": 3
   },
   "file_extension": ".py",
   "mimetype": "text/x-python",
   "name": "python",
   "nbconvert_exporter": "python",
   "pygments_lexer": "ipython3",
   "version": "3.9.7"
  }
 },
 "nbformat": 4,
 "nbformat_minor": 5
}
